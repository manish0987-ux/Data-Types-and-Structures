{
 "cells": [
  {
   "cell_type": "markdown",
   "id": "55cd932d-67ca-45df-a06f-958be3c8dcf7",
   "metadata": {},
   "source": [
    "1 What are data structures, and why are they important?\n",
    "\n",
    "Data structures are ways to organize and store data efficiently for operations like searching, sorting, and updating. They’re important because they improve performance and make algorithms more efficient."
   ]
  },
  {
   "cell_type": "markdown",
   "id": "474fffd6-dd3e-473f-bcdc-525502c9c2df",
   "metadata": {},
   "source": [
    "2 Difference between mutable and immutable data types with examples\n",
    "\n",
    "Mutable: Can be changed after creation (e.g., list, dict, set).\n",
    "\n",
    "Immutable: Cannot be changed after creation (e.g., tuple, str).\n",
    "Example:"
   ]
  },
  {
   "cell_type": "code",
   "execution_count": 5,
   "id": "50a92775-c9d4-490a-b62a-137b3d4754f8",
   "metadata": {},
   "outputs": [],
   "source": [
    "a = [1,2,3]; a[0] = 5  # Mutable\n",
    "b = \"hello\"; # cannot change characters  # Immutable\n"
   ]
  },
  {
   "cell_type": "markdown",
   "id": "a526f9f1-0759-4cfd-98fe-4759e0910d1e",
   "metadata": {},
   "source": [
    "3 Main differences between lists and tuples in Python\n",
    "\n",
    "Feature\tList\tTuple\n",
    "\n",
    "Mutability\tMutable\tImmutable\n",
    "\n",
    "Syntax\t[ ]\t( )\n",
    "\n",
    "Speed\tSlower\tFaster"
   ]
  },
  {
   "cell_type": "markdown",
   "id": "513df5fc-b7f3-4f74-82ef-e2f2acbd53e3",
   "metadata": {},
   "source": [
    "4 How dictionaries store data\n",
    "\n",
    "Dictionaries store data as key–value pairs using a hash table internally, where each key is hashed to a unique index."
   ]
  },
  {
   "cell_type": "markdown",
   "id": "87197e1c-d605-4f9c-973c-5e108156c393",
   "metadata": {},
   "source": [
    "5 Why use a set instead of a list?\n",
    "\n",
    "Sets automatically remove duplicates and allow fast membership checking (in operation)."
   ]
  },
  {
   "cell_type": "markdown",
   "id": "4d608b8a-9186-4dfb-ba1b-e90170d8d000",
   "metadata": {},
   "source": [
    "6 What is a string in Python, and how is it different from a list?\n",
    "\n",
    "A string is a sequence of characters (immutable). A list can store multiple data types and can be modified."
   ]
  },
  {
   "cell_type": "markdown",
   "id": "10342acf-6c96-4920-a345-7b85dd31ae9a",
   "metadata": {},
   "source": [
    "7 How do tuples ensure data integrity?\n",
    "\n",
    "Since tuples are immutable, their data cannot be altered, ensuring data integrity."
   ]
  },
  {
   "cell_type": "markdown",
   "id": "6308e29e-d572-47e9-9b92-bc84665faf7b",
   "metadata": {},
   "source": [
    "8 What is a hash table, and how does it relate to dictionaries?\n",
    "\n",
    "A hash table stores data using key–value pairs with hash functions. Python’s dict is built on hash tables."
   ]
  },
  {
   "cell_type": "markdown",
   "id": "1ae7603e-f743-49fb-9a1f-1619f93ca37f",
   "metadata": {},
   "source": [
    "9 Can lists contain different data types in Python?\n",
    "\n",
    "Yes, lists can store mixed data types, e.g., [1, \"text\", 3.5]."
   ]
  },
  {
   "cell_type": "markdown",
   "id": "61f18304-5635-4f62-8b9c-8020b6f791bc",
   "metadata": {},
   "source": [
    "10 Why are strings immutable in Python?\n",
    "\n",
    "Because changing them would require creating a new object, ensuring safety and efficiency in memory management."
   ]
  },
  {
   "cell_type": "markdown",
   "id": "d99dd0ac-b3b6-48bc-adf1-932ad436ad5e",
   "metadata": {},
   "source": [
    "11 Advantages of dictionaries over lists\n",
    "\n",
    "Faster lookups by key, better for mapping relationships (e.g., names to ages)."
   ]
  },
  {
   "cell_type": "markdown",
   "id": "8485ab43-232c-4e61-8e5b-1790b208fe05",
   "metadata": {},
   "source": [
    "12 Scenario where tuple is preferable over list\n",
    "\n",
    "When you need fixed data (e.g., days of the week, coordinates)."
   ]
  },
  {
   "cell_type": "markdown",
   "id": "3bf69b7e-8c4f-4a3b-b296-3342aa8ece98",
   "metadata": {},
   "source": [
    "13 How do sets handle duplicate values?\n",
    "\n",
    "Sets automatically discard duplicates."
   ]
  },
  {
   "cell_type": "markdown",
   "id": "fc83220e-5c04-459c-9771-fbc511914777",
   "metadata": {},
   "source": [
    "14 How does the “in” keyword work differently for lists and dictionaries?\n",
    "\n",
    "Lists: checks if value exists.\n",
    "\n",
    "Dictionaries: checks if key exists."
   ]
  },
  {
   "cell_type": "markdown",
   "id": "017246e0-3d12-4bab-8db8-dc4cb83423e5",
   "metadata": {},
   "source": [
    "15 Can you modify tuple elements? Why or why not?\n",
    "\n",
    "No, tuples are immutable, so elements can’t be modified."
   ]
  },
  {
   "cell_type": "markdown",
   "id": "4bea7519-09ff-4d83-95d2-0f3c3639b39f",
   "metadata": {},
   "source": [
    "16 What is a nested dictionary? Give an example.\n",
    "\n",
    "A dictionary inside another dictionary."
   ]
  },
  {
   "cell_type": "code",
   "execution_count": 10,
   "id": "ac368516-91e0-4891-add1-29e8d96822c7",
   "metadata": {},
   "outputs": [],
   "source": [
    "student = {\"name\":\"John\",\"marks\":{\"math\":90,\"science\":85}}"
   ]
  },
  {
   "cell_type": "markdown",
   "id": "bfb0a78d-6bbb-4f1c-91f9-7d8a474cd1c5",
   "metadata": {},
   "source": [
    "17 Time complexity of accessing elements in a dictionary\n",
    "\n",
    "Average case: O(1) (constant time)."
   ]
  },
  {
   "cell_type": "markdown",
   "id": "64e39f2b-1da1-4fb1-9512-ddf7a16b8a97",
   "metadata": {},
   "source": [
    "18 When are lists preferred over dictionaries?\n",
    "\n",
    "When order matters or when data doesn’t need key-value mapping."
   ]
  },
  {
   "cell_type": "markdown",
   "id": "5d5d6a22-95ea-4513-92b8-66d7eee0f60c",
   "metadata": {},
   "source": [
    "19 Why are dictionaries unordered? How does that affect retrieval?\n",
    "\n",
    "Earlier versions (<3.7) didn’t maintain order; retrieval depends on hash values, not sequence."
   ]
  },
  {
   "cell_type": "markdown",
   "id": "b9845dc6-45f4-4c98-aee8-b9ff585ce500",
   "metadata": {},
   "source": [
    "20 Difference between list and dictionary in terms of data retrieval\n",
    "\n",
    "Lists use index numbers, dictionaries use keys."
   ]
  },
  {
   "cell_type": "code",
   "execution_count": 12,
   "id": "390bc4d0-6013-4de1-9b66-27bfaceda6bc",
   "metadata": {},
   "outputs": [],
   "source": [
    "# PRACTICAL QUESTIONS "
   ]
  },
  {
   "cell_type": "code",
   "execution_count": null,
   "id": "51d3f3b3-1565-4fa8-8362-0b78b1acebea",
   "metadata": {},
   "outputs": [],
   "source": []
  }
 ],
 "metadata": {
  "kernelspec": {
   "display_name": "Python [conda env:base] *",
   "language": "python",
   "name": "conda-base-py"
  },
  "language_info": {
   "codemirror_mode": {
    "name": "ipython",
    "version": 3
   },
   "file_extension": ".py",
   "mimetype": "text/x-python",
   "name": "python",
   "nbconvert_exporter": "python",
   "pygments_lexer": "ipython3",
   "version": "3.12.4"
  }
 },
 "nbformat": 4,
 "nbformat_minor": 5
}
